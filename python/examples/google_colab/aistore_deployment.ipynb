{
  "nbformat": 4,
  "nbformat_minor": 0,
  "metadata": {
    "colab": {
      "provenance": [],
      "include_colab_link": true
    },
    "kernelspec": {
      "name": "python3",
      "display_name": "Python 3"
    },
    "language_info": {
      "name": "python"
    }
  },
  "cells": [
    {
      "cell_type": "markdown",
      "metadata": {
        "id": "view-in-github",
        "colab_type": "text"
      },
      "source": [
        "<a href=\"https://colab.research.google.com/github/NVIDIA/aistore/blob/docs-collab/python/examples/google_colab/aistore_deployment.ipynb\" target=\"_parent\"><img src=\"https://colab.research.google.com/assets/colab-badge.svg\" alt=\"Open In Colab\"/></a>"
      ]
    },
    {
      "cell_type": "code",
      "execution_count": 1,
      "metadata": {
        "colab": {
          "base_uri": "https://localhost:8080/"
        },
        "id": "L7ia9-sdoYKq",
        "outputId": "b97a3274-0dcd-454e-acdc-7d1a12c737af"
      },
      "outputs": [
        {
          "output_type": "stream",
          "name": "stdout",
          "text": [
            "--2024-08-29 20:45:02--  https://go.dev/dl/go1.22.3.linux-amd64.tar.gz\n",
            "Resolving go.dev (go.dev)... 216.239.34.21, 216.239.36.21, 216.239.32.21, ...\n",
            "Connecting to go.dev (go.dev)|216.239.34.21|:443... connected.\n",
            "HTTP request sent, awaiting response... 302 Found\n",
            "Location: https://dl.google.com/go/go1.22.3.linux-amd64.tar.gz [following]\n",
            "--2024-08-29 20:45:02--  https://dl.google.com/go/go1.22.3.linux-amd64.tar.gz\n",
            "Resolving dl.google.com (dl.google.com)... 108.177.127.93, 108.177.127.91, 108.177.127.136, ...\n",
            "Connecting to dl.google.com (dl.google.com)|108.177.127.93|:443... connected.\n",
            "HTTP request sent, awaiting response... 200 OK\n",
            "Length: 68958945 (66M) [application/x-gzip]\n",
            "Saving to: ‘go1.22.3.linux-amd64.tar.gz’\n",
            "\n",
            "go1.22.3.linux-amd6 100%[===================>]  65.76M  53.9MB/s    in 1.2s    \n",
            "\n",
            "2024-08-29 20:45:04 (53.9 MB/s) - ‘go1.22.3.linux-amd64.tar.gz’ saved [68958945/68958945]\n",
            "\n",
            "go version go1.22.3 linux/amd64\n"
          ]
        }
      ],
      "source": [
        "# install go\n",
        "!wget https://go.dev/dl/go1.22.3.linux-amd64.tar.gz\n",
        "!sudo tar -C /usr/local -xzf go1.22.3.linux-amd64.tar.gz\n",
        "!mkdir go\n",
        "\n",
        "# add env vars\n",
        "import os\n",
        "os.environ['GOPATH'] = '/content/go'\n",
        "os.environ['PATH'] += ':/usr/local/go/bin:/content/go/bin'\n",
        "\n",
        "# test if go is installed\n",
        "!go version\n"
      ]
    },
    {
      "cell_type": "code",
      "source": [
        "# install aistore\n",
        "!sudo apt update\n",
        "!sudo apt install -y xattr attr\n",
        "!git clone https://github.com/NVIDIA/aistore.git\n",
        "!nohup bash -c \"PORT=51080 make -C aistore deploy <<< $'1\\n1\\n3\\nn\\nn\\n\\n\\nn\\nn\\n'\" > output.log 2>&1 &"
      ],
      "metadata": {
        "colab": {
          "base_uri": "https://localhost:8080/"
        },
        "id": "XAMzxubWoZEs",
        "outputId": "2df16b56-73e1-4f93-8c44-935ea4cde470"
      },
      "execution_count": 2,
      "outputs": [
        {
          "output_type": "stream",
          "name": "stdout",
          "text": [
            "\u001b[33m\r0% [Working]\u001b[0m\r            \rHit:1 http://archive.ubuntu.com/ubuntu jammy InRelease\n",
            "\u001b[33m\r0% [Connecting to security.ubuntu.com (91.189.91.82)] [Connected to cloud.r-pro\u001b[0m\r                                                                               \rGet:2 http://archive.ubuntu.com/ubuntu jammy-updates InRelease [128 kB]\n",
            "\r                                                                               \rHit:3 http://archive.ubuntu.com/ubuntu jammy-backports InRelease\n",
            "\r                                                                               \rGet:4 https://cloud.r-project.org/bin/linux/ubuntu jammy-cran40/ InRelease [3,626 B]\n",
            "\r                                                                               \rGet:5 https://developer.download.nvidia.com/compute/cuda/repos/ubuntu2204/x86_64  InRelease [1,581 B]\n",
            "\r                                                                               \rHit:6 https://ppa.launchpadcontent.net/deadsnakes/ppa/ubuntu jammy InRelease\n",
            "\u001b[33m\r0% [Waiting for headers] [Connecting to r2u.stat.illinois.edu (192.17.190.167)]\u001b[0m\r                                                                               \rGet:7 http://security.ubuntu.com/ubuntu jammy-security InRelease [129 kB]\n",
            "\u001b[33m\r0% [7 InRelease 14.2 kB/129 kB 11%] [Connecting to r2u.stat.illinois.edu (192.1\u001b[0m\r                                                                               \rHit:8 https://ppa.launchpadcontent.net/graphics-drivers/ppa/ubuntu jammy InRelease\n",
            "Hit:9 https://ppa.launchpadcontent.net/ubuntugis/ppa/ubuntu jammy InRelease\n",
            "Ign:10 https://r2u.stat.illinois.edu/ubuntu jammy InRelease\n",
            "Get:11 https://r2u.stat.illinois.edu/ubuntu jammy Release [5,713 B]\n",
            "Get:12 http://archive.ubuntu.com/ubuntu jammy-updates/main amd64 Packages [2,498 kB]\n",
            "Get:13 https://r2u.stat.illinois.edu/ubuntu jammy Release.gpg [793 B]\n",
            "Get:14 https://developer.download.nvidia.com/compute/cuda/repos/ubuntu2204/x86_64  Packages [962 kB]\n",
            "Get:15 https://r2u.stat.illinois.edu/ubuntu jammy/main amd64 Packages [2,562 kB]\n",
            "Get:16 https://r2u.stat.illinois.edu/ubuntu jammy/main all Packages [8,261 kB]\n",
            "Fetched 14.6 MB in 4s (3,446 kB/s)\n",
            "Reading package lists... Done\n",
            "Building dependency tree... Done\n",
            "Reading state information... Done\n",
            "53 packages can be upgraded. Run 'apt list --upgradable' to see them.\n",
            "\u001b[1;33mW: \u001b[0mSkipping acquire of configured file 'main/source/Sources' as repository 'https://r2u.stat.illinois.edu/ubuntu jammy InRelease' does not seem to provide it (sources.list entry misspelled?)\u001b[0m\n",
            "Reading package lists... Done\n",
            "Building dependency tree... Done\n",
            "Reading state information... Done\n",
            "The following additional packages will be installed:\n",
            "  python3-xattr\n",
            "The following NEW packages will be installed:\n",
            "  attr python3-xattr xattr\n",
            "0 upgraded, 3 newly installed, 0 to remove and 53 not upgraded.\n",
            "Need to get 43.1 kB of archives.\n",
            "After this operation, 230 kB of additional disk space will be used.\n",
            "Get:1 http://archive.ubuntu.com/ubuntu jammy/main amd64 attr amd64 1:2.5.1-1build1 [22.6 kB]\n",
            "Get:2 http://archive.ubuntu.com/ubuntu jammy/main amd64 python3-xattr amd64 0.9.7-1build4 [16.3 kB]\n",
            "Get:3 http://archive.ubuntu.com/ubuntu jammy/universe amd64 xattr amd64 0.9.7-1build4 [4,192 B]\n",
            "Fetched 43.1 kB in 0s (723 kB/s)\n",
            "debconf: unable to initialize frontend: Dialog\n",
            "debconf: (No usable dialog-like program is installed, so the dialog based frontend cannot be used. at /usr/share/perl5/Debconf/FrontEnd/Dialog.pm line 78, <> line 3.)\n",
            "debconf: falling back to frontend: Readline\n",
            "debconf: unable to initialize frontend: Readline\n",
            "debconf: (This frontend requires a controlling tty.)\n",
            "debconf: falling back to frontend: Teletype\n",
            "dpkg-preconfigure: unable to re-open stdin: \n",
            "Selecting previously unselected package attr.\n",
            "(Reading database ... 123595 files and directories currently installed.)\n",
            "Preparing to unpack .../attr_1%3a2.5.1-1build1_amd64.deb ...\n",
            "Unpacking attr (1:2.5.1-1build1) ...\n",
            "Selecting previously unselected package python3-xattr.\n",
            "Preparing to unpack .../python3-xattr_0.9.7-1build4_amd64.deb ...\n",
            "Unpacking python3-xattr (0.9.7-1build4) ...\n",
            "Selecting previously unselected package xattr.\n",
            "Preparing to unpack .../xattr_0.9.7-1build4_amd64.deb ...\n",
            "Unpacking xattr (0.9.7-1build4) ...\n",
            "Setting up attr (1:2.5.1-1build1) ...\n",
            "Setting up python3-xattr (0.9.7-1build4) ...\n",
            "Setting up xattr (0.9.7-1build4) ...\n",
            "Processing triggers for man-db (2.10.2-1) ...\n",
            "Cloning into 'aistore'...\n",
            "remote: Enumerating objects: 111406, done.\u001b[K\n",
            "remote: Counting objects: 100% (7576/7576), done.\u001b[K\n",
            "remote: Compressing objects: 100% (2086/2086), done.\u001b[K\n",
            "remote: Total 111406 (delta 5617), reused 7279 (delta 5415), pack-reused 103830 (from 1)\u001b[K\n",
            "Receiving objects: 100% (111406/111406), 80.44 MiB | 24.23 MiB/s, done.\n",
            "Resolving deltas: 100% (89014/89014), done.\n"
          ]
        }
      ]
    },
    {
      "cell_type": "code",
      "source": [
        "!cat output.log"
      ],
      "metadata": {
        "colab": {
          "base_uri": "https://localhost:8080/"
        },
        "id": "EnIAgKSXozux",
        "outputId": "cc147909-b080-43ff-e155-1fd19f22a6ba"
      },
      "execution_count": 6,
      "outputs": [
        {
          "output_type": "stream",
          "name": "stdout",
          "text": [
            "make: Entering directory '/content/aistore'\n",
            "/content/go/pkg does not exist (deploying the very first time and from scratch?)\n",
            "(Tip: run 'make mod-tidy' to download required packages)\n",
            "\n",
            "Enter number of storage targets:\n",
            "Enter number of proxies (gateways):\n",
            "Number of local mountpaths (enter 0 for preconfigured filesystems):\n",
            "Select backend providers (press Enter at any point to stop adding backends):\n",
            "Amazon S3: (y/n) ?\n",
            "Google Cloud Storage: (y/n) ?\n",
            "Azure: (y/n) ?\n",
            "Loopback device size, e.g. 10G, 100M (press Enter to skip): \n",
            "Building aisnode 53d4e43a3 [build tags: mono]\n",
            "go: downloading github.com/json-iterator/go v1.1.12\n",
            "go: downloading github.com/OneOfOne/xxhash v1.2.8\n",
            "go: downloading github.com/tinylib/msgp v1.2.0\n",
            "go: downloading github.com/prometheus/client_golang v1.20.0\n",
            "go: downloading github.com/pierrec/lz4/v3 v3.3.5\n",
            "go: downloading github.com/teris-io/shortid v0.0.0-20220617161101-71ec9f2aa569\n",
            "go: downloading github.com/modern-go/concurrent v0.0.0-20180306012644-bacd9c7ef1dd\n",
            "go: downloading github.com/modern-go/reflect2 v1.0.2\n",
            "go: downloading github.com/philhofer/fwd v1.1.3-0.20240612014219-fbbf4953d986\n",
            "go: downloading github.com/golang-jwt/jwt/v4 v4.5.0\n",
            "go: downloading k8s.io/api v0.31.0\n",
            "go: downloading k8s.io/apimachinery v0.31.0\n",
            "go: downloading k8s.io/client-go v0.31.0\n",
            "go: downloading k8s.io/metrics v0.31.0\n",
            "go: downloading github.com/tidwall/buntdb v1.3.1\n",
            "go: downloading github.com/klauspost/reedsolomon v1.12.3\n",
            "go: downloading golang.org/x/sync v0.8.0\n",
            "go: downloading github.com/pkg/errors v0.9.1\n",
            "go: downloading github.com/karrick/godirwalk v1.17.0\n",
            "go: downloading golang.org/x/sys v0.24.0\n",
            "go: downloading github.com/valyala/fasthttp v1.55.0\n",
            "go: downloading github.com/klauspost/compress v1.17.9\n",
            "go: downloading github.com/prometheus/client_model v0.6.1\n",
            "go: downloading github.com/prometheus/common v0.55.0\n",
            "go: downloading github.com/gogo/protobuf v1.3.2\n",
            "go: downloading github.com/google/gofuzz v1.2.0\n",
            "go: downloading k8s.io/utils v0.0.0-20240711033017-18e509b52bc8\n",
            "go: downloading github.com/imdario/mergo v0.3.16\n",
            "go: downloading github.com/spf13/pflag v1.0.5\n",
            "go: downloading golang.org/x/term v0.23.0\n",
            "go: downloading k8s.io/klog/v2 v2.130.1\n",
            "go: downloading golang.org/x/net v0.28.0\n",
            "go: downloading github.com/tidwall/btree v1.7.0\n",
            "go: downloading github.com/tidwall/gjson v1.17.3\n",
            "go: downloading github.com/tidwall/grect v0.1.4\n",
            "go: downloading github.com/tidwall/match v1.1.1\n",
            "go: downloading github.com/tidwall/rtred v0.1.2\n",
            "go: downloading github.com/klauspost/cpuid/v2 v2.2.8\n",
            "go: downloading github.com/seiflotfy/cuckoofilter v0.0.0-20240715131351-a2f2c23f1771\n",
            "go: downloading github.com/beorn7/perks v1.0.1\n",
            "go: downloading github.com/cespare/xxhash/v2 v2.3.0\n",
            "go: downloading github.com/prometheus/procfs v0.15.1\n",
            "go: downloading google.golang.org/protobuf v1.34.2\n",
            "go: downloading github.com/andybalholm/brotli v1.1.0\n",
            "go: downloading github.com/valyala/bytebufferpool v1.0.0\n",
            "go: downloading github.com/munnerz/goautoneg v0.0.0-20191010083416-a7dc8b61c822\n",
            "go: downloading gopkg.in/inf.v0 v0.9.1\n",
            "go: downloading sigs.k8s.io/structured-merge-diff/v4 v4.4.1\n",
            "go: downloading sigs.k8s.io/json v0.0.0-20221116044647-bc3834ca7abd\n",
            "go: downloading github.com/golang/protobuf v1.5.4\n",
            "go: downloading github.com/google/gnostic-models v0.6.8\n",
            "go: downloading golang.org/x/time v0.6.0\n",
            "go: downloading github.com/go-logr/logr v1.4.2\n",
            "go: downloading golang.org/x/oauth2 v0.22.0\n",
            "go: downloading github.com/tidwall/pretty v1.2.1\n",
            "go: downloading github.com/dgryski/go-metro v0.0.0-20211217172704-adc40b04c140\n",
            "go: downloading github.com/fxamacker/cbor/v2 v2.7.0\n",
            "go: downloading gopkg.in/yaml.v2 v2.4.0\n",
            "go: downloading k8s.io/kube-openapi v0.0.0-20240816214639-573285566f34\n",
            "go: downloading github.com/google/go-cmp v0.6.0\n",
            "go: downloading sigs.k8s.io/yaml v1.4.0\n",
            "go: downloading gopkg.in/yaml.v3 v3.0.1\n",
            "go: downloading golang.org/x/text v0.17.0\n",
            "go: downloading github.com/davecgh/go-spew v1.1.2-0.20180830191138-d8f796af33cc\n",
            "go: downloading github.com/tidwall/tinyqueue v0.1.1\n",
            "go: downloading github.com/x448/float16 v0.8.4\n",
            "go: downloading github.com/google/uuid v1.6.0\n",
            "go: downloading github.com/go-openapi/jsonreference v0.21.0\n",
            "go: downloading github.com/go-openapi/swag v0.23.0\n",
            "go: downloading github.com/emicklei/go-restful/v3 v3.12.1\n",
            "go: downloading github.com/go-openapi/jsonpointer v0.21.0\n",
            "go: downloading github.com/mailru/easyjson v0.7.7\n",
            "go: downloading github.com/josharian/intern v1.0.0\n",
            "done.\n",
            "Proxy is listening on port: 51080\n",
            "Primary endpoint: http://localhost:51080\n",
            "make: Leaving directory '/content/aistore'\n"
          ]
        }
      ]
    },
    {
      "cell_type": "code",
      "source": [
        "!curl http://localhost:51080/s3"
      ],
      "metadata": {
        "colab": {
          "base_uri": "https://localhost:8080/"
        },
        "id": "9mFFs5wRo80x",
        "outputId": "64baaae4-525b-4c7e-9807-91b85a15e168"
      },
      "execution_count": 7,
      "outputs": [
        {
          "output_type": "stream",
          "name": "stdout",
          "text": [
            "<?xml version=\"1.0\" encoding=\"UTF-8\"?>\n",
            "<ListBucketResult xmlns=\"http://s3.amazonaws.com/doc/2006-03-01\"><Owner><ID>1</ID><DisplayName>ListAllMyBucketsResult</DisplayName></Owner><Buckets></Buckets></ListBucketResult>"
          ]
        }
      ]
    },
    {
      "cell_type": "code",
      "source": [
        "!pip install aistore\n",
        "\n",
        "from aistore import Client\n",
        "\n",
        "# Initialize the AIStore client\n",
        "ais_client = Client(\"http://localhost:51080\")\n",
        "ais_client.cluster().get_info()"
      ],
      "metadata": {
        "colab": {
          "base_uri": "https://localhost:8080/"
        },
        "id": "RBLobCCcraQ_",
        "outputId": "c3ee47bf-41cf-4c85-b337-42e83259dc77"
      },
      "execution_count": 8,
      "outputs": [
        {
          "output_type": "stream",
          "name": "stdout",
          "text": [
            "Collecting aistore\n",
            "  Downloading aistore-1.5.1-py3-none-any.whl.metadata (2.2 kB)\n",
            "Collecting braceexpand>=0.1.7 (from aistore)\n",
            "  Downloading braceexpand-0.1.7-py2.py3-none-any.whl.metadata (3.0 kB)\n",
            "Collecting cloudpickle==2.2.0 (from aistore)\n",
            "  Downloading cloudpickle-2.2.0-py3-none-any.whl.metadata (6.9 kB)\n",
            "Requirement already satisfied: humanize>=4.6.0 in /usr/local/lib/python3.10/dist-packages (from aistore) (4.10.0)\n",
            "Collecting msgspec>=0.15.1 (from aistore)\n",
            "  Downloading msgspec-0.18.6-cp310-cp310-manylinux_2_17_x86_64.manylinux2014_x86_64.whl.metadata (6.9 kB)\n",
            "Requirement already satisfied: packaging in /usr/local/lib/python3.10/dist-packages (from aistore) (24.1)\n",
            "Collecting pydantic==1.10.14 (from aistore)\n",
            "  Downloading pydantic-1.10.14-cp310-cp310-manylinux_2_17_x86_64.manylinux2014_x86_64.whl.metadata (150 kB)\n",
            "\u001b[2K     \u001b[90m━━━━━━━━━━━━━━━━━━━━━━━━━━━━━━━━━━━━━━━━\u001b[0m \u001b[32m150.2/150.2 kB\u001b[0m \u001b[31m6.8 MB/s\u001b[0m eta \u001b[36m0:00:00\u001b[0m\n",
            "\u001b[?25hRequirement already satisfied: requests in /usr/local/lib/python3.10/dist-packages (from aistore) (2.32.3)\n",
            "Collecting webdataset==0.2.86 (from aistore)\n",
            "  Downloading webdataset-0.2.86-py3-none-any.whl.metadata (29 kB)\n",
            "Requirement already satisfied: typing-extensions>=4.2.0 in /usr/local/lib/python3.10/dist-packages (from pydantic==1.10.14->aistore) (4.12.2)\n",
            "Requirement already satisfied: numpy in /usr/local/lib/python3.10/dist-packages (from webdataset==0.2.86->aistore) (1.26.4)\n",
            "Requirement already satisfied: pyyaml in /usr/local/lib/python3.10/dist-packages (from webdataset==0.2.86->aistore) (6.0.2)\n",
            "Requirement already satisfied: charset-normalizer<4,>=2 in /usr/local/lib/python3.10/dist-packages (from requests->aistore) (3.3.2)\n",
            "Requirement already satisfied: idna<4,>=2.5 in /usr/local/lib/python3.10/dist-packages (from requests->aistore) (3.8)\n",
            "Requirement already satisfied: urllib3<3,>=1.21.1 in /usr/local/lib/python3.10/dist-packages (from requests->aistore) (2.0.7)\n",
            "Requirement already satisfied: certifi>=2017.4.17 in /usr/local/lib/python3.10/dist-packages (from requests->aistore) (2024.7.4)\n",
            "Downloading aistore-1.5.1-py3-none-any.whl (96 kB)\n",
            "\u001b[2K   \u001b[90m━━━━━━━━━━━━━━━━━━━━━━━━━━━━━━━━━━━━━━━━\u001b[0m \u001b[32m96.9/96.9 kB\u001b[0m \u001b[31m6.5 MB/s\u001b[0m eta \u001b[36m0:00:00\u001b[0m\n",
            "\u001b[?25hDownloading cloudpickle-2.2.0-py3-none-any.whl (25 kB)\n",
            "Downloading pydantic-1.10.14-cp310-cp310-manylinux_2_17_x86_64.manylinux2014_x86_64.whl (3.1 MB)\n",
            "\u001b[2K   \u001b[90m━━━━━━━━━━━━━━━━━━━━━━━━━━━━━━━━━━━━━━━━\u001b[0m \u001b[32m3.1/3.1 MB\u001b[0m \u001b[31m45.9 MB/s\u001b[0m eta \u001b[36m0:00:00\u001b[0m\n",
            "\u001b[?25hDownloading webdataset-0.2.86-py3-none-any.whl (70 kB)\n",
            "\u001b[2K   \u001b[90m━━━━━━━━━━━━━━━━━━━━━━━━━━━━━━━━━━━━━━━━\u001b[0m \u001b[32m70.4/70.4 kB\u001b[0m \u001b[31m5.1 MB/s\u001b[0m eta \u001b[36m0:00:00\u001b[0m\n",
            "\u001b[?25hDownloading braceexpand-0.1.7-py2.py3-none-any.whl (5.9 kB)\n",
            "Downloading msgspec-0.18.6-cp310-cp310-manylinux_2_17_x86_64.manylinux2014_x86_64.whl (210 kB)\n",
            "\u001b[2K   \u001b[90m━━━━━━━━━━━━━━━━━━━━━━━━━━━━━━━━━━━━━━━━\u001b[0m \u001b[32m210.3/210.3 kB\u001b[0m \u001b[31m13.2 MB/s\u001b[0m eta \u001b[36m0:00:00\u001b[0m\n",
            "\u001b[?25hInstalling collected packages: braceexpand, webdataset, pydantic, msgspec, cloudpickle, aistore\n",
            "  Attempting uninstall: pydantic\n",
            "    Found existing installation: pydantic 2.8.2\n",
            "    Uninstalling pydantic-2.8.2:\n",
            "      Successfully uninstalled pydantic-2.8.2\n",
            "  Attempting uninstall: cloudpickle\n",
            "    Found existing installation: cloudpickle 2.2.1\n",
            "    Uninstalling cloudpickle-2.2.1:\n",
            "      Successfully uninstalled cloudpickle-2.2.1\n",
            "\u001b[31mERROR: pip's dependency resolver does not currently take into account all the packages that are installed. This behavior is the source of the following dependency conflicts.\n",
            "albumentations 1.4.14 requires pydantic>=2.7.0, but you have pydantic 1.10.14 which is incompatible.\u001b[0m\u001b[31m\n",
            "\u001b[0mSuccessfully installed aistore-1.5.1 braceexpand-0.1.7 cloudpickle-2.2.0 msgspec-0.18.6 pydantic-1.10.14 webdataset-0.2.86\n"
          ]
        },
        {
          "output_type": "execute_result",
          "data": {
            "text/plain": [
              "Smap(tmap={'Qjdt51081': Snode(daemon_id='Qjdt51081', daemon_type='target', public_net=NetInfo(node_hostname='', daemon_port='51081', direct_url='http://127.0.0.1:51081'), intra_control_net=NetInfo(node_hostname='', daemon_port='9081', direct_url='http://127.0.0.1:9081'), intra_data_net=NetInfo(node_hostname='', daemon_port='10081', direct_url='http://127.0.0.1:10081'), flags=0)}, pmap={'eZup51080': Snode(daemon_id='eZup51080', daemon_type='proxy', public_net=NetInfo(node_hostname='', daemon_port='51080', direct_url='http://127.0.0.1:51080'), intra_control_net=NetInfo(node_hostname='', daemon_port='9080', direct_url='http://127.0.0.1:9080'), intra_data_net=NetInfo(node_hostname='', daemon_port='10080', direct_url='http://127.0.0.1:10080'), flags=2)}, proxy_si=Snode(daemon_id='eZup51080', daemon_type='proxy', public_net=NetInfo(node_hostname='', daemon_port='51080', direct_url='http://127.0.0.1:51080'), intra_control_net=NetInfo(node_hostname='', daemon_port='9080', direct_url='http://127.0.0.1:9080'), intra_data_net=NetInfo(node_hostname='', daemon_port='10080', direct_url='http://127.0.0.1:10080'), flags=2), version=4, uuid='pg8OXjJ53', creation_time='2024-08-29 20:49:24.807735283 +0000 UTC m=+16.027605232')"
            ]
          },
          "metadata": {},
          "execution_count": 8
        }
      ]
    },
    {
      "cell_type": "code",
      "source": [
        "!make -C aistore cli\n",
        "!AIS_ENDPOINT=http://localhost:51080 ais show cluster"
      ],
      "metadata": {
        "colab": {
          "base_uri": "https://localhost:8080/"
        },
        "id": "EU0odaCPrkvS",
        "outputId": "b5657b6f-bd41-4570-f364-c0dbdf7a585f"
      },
      "execution_count": 9,
      "outputs": [
        {
          "output_type": "stream",
          "name": "stdout",
          "text": [
            "make: Entering directory '/content/aistore'\n",
            "Building ais (CLI) [build tags: mono]\n",
            "go: downloading github.com/NVIDIA/aistore v1.3.24-0.20240829150638-5e92eff58c06\n",
            "go: downloading github.com/fatih/color v1.17.0\n",
            "go: downloading github.com/urfave/cli v1.22.15\n",
            "go: downloading github.com/vbauerster/mpb/v4 v4.12.2\n",
            "go: downloading github.com/mattn/go-colorable v0.1.13\n",
            "go: downloading github.com/mattn/go-isatty v0.0.20\n",
            "go: downloading github.com/cpuguy83/go-md2man/v2 v2.0.4\n",
            "go: downloading github.com/VividCortex/ewma v1.2.0\n",
            "go: downloading github.com/acarl005/stripansi v0.0.0-20180116102854-5a71ef0e047d\n",
            "go: downloading golang.org/x/crypto v0.26.0\n",
            "go: downloading github.com/russross/blackfriday/v2 v2.1.0\n",
            "*** To enable autocompletions in your current shell, run:\n",
            "*** source /content/aistore/cmd/cli/autocomplete/[bash|zsh]\n",
            "make: Leaving directory '/content/aistore'\n",
            "PROXY\t\t MEM USED(%)\t MEM AVAIL\t LOAD AVERAGE\t UPTIME\t STATUS\n",
            "p[eZup51080][P]\t 0.31%\t\t 11.34GiB\t [4.0 2.9 1.5]\t 2m30s\t online\n",
            "\n",
            "TARGET\t\t MEM USED(%)\t MEM AVAIL\t CAP USED(%)\t CAP AVAIL\t LOAD AVERAGE\t REBALANCE\t UPTIME\t STATUS\n",
            "t[Qjdt51081]\t 0.31%\t\t 11.34GiB\t 32%\t\t 72.985GiB\t [4.0 2.9 1.5]\t -\t\t 2m30s\t online\n",
            "\n",
            "\u001b[92mSummary:\u001b[0m\n",
            "   Proxies:\t\t1\n",
            "   Targets:\t\t1\n",
            "   Capacity:\t\tused 34.73GiB (\u001b[92m32%\u001b[0m), available 72.98GiB\n",
            "   Cluster Map:\t\tversion 4, UUID pg8OXjJ53, primary p[eZup51080]\n",
            "   Software:\t\t3.24.rc3.53d4e43a3 (build: 2024-08-29T20:45:45+0000)\n",
            "   Deployment:\t\tdev\n",
            "   Status:\t\t2 online\n",
            "   Rebalance:\t\tn/a\n",
            "   Authentication:\tdisabled\n",
            "   Version:\t\t3.24.rc3.53d4e43a3\n",
            "   Build:\t\t2024-08-29T20:45:45+0000\n"
          ]
        }
      ]
    },
    {
      "cell_type": "code",
      "source": [],
      "metadata": {
        "id": "HHr1A6QdvJoz"
      },
      "execution_count": null,
      "outputs": []
    }
  ]
}